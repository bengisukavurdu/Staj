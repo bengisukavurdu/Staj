{
 "cells": [
  {
   "cell_type": "code",
   "execution_count": 1,
   "id": "514703ad",
   "metadata": {},
   "outputs": [],
   "source": [
    "import numpy as np\n",
    "import matplotlib.pyplot as plt\n",
    "import pandas as pd"
   ]
  },
  {
   "cell_type": "code",
   "execution_count": null,
   "id": "6deb947c",
   "metadata": {},
   "outputs": [],
   "source": [
    "data = pd.read_csv('4m_61f_all.csv')\n",
    "data.head()"
   ]
  },
  {
   "cell_type": "code",
   "execution_count": null,
   "id": "befab8cc",
   "metadata": {},
   "outputs": [],
   "source": [
    "x = data[\"NewLabel\"].value_counts()\n",
    "print(x)"
   ]
  },
  {
   "cell_type": "code",
   "execution_count": null,
   "id": "e1e0b48a",
   "metadata": {},
   "outputs": [],
   "source": [
    "newLabel = data.iloc[:, -1:]\n",
    "#Label Encoding for NewLabel column\n",
    "from sklearn import preprocessing\n",
    "newLabel_le = newLabel.apply(preprocessing.LabelEncoder().fit_transform)\n",
    "newLabel_le.head()"
   ]
  },
  {
   "cell_type": "code",
   "execution_count": null,
   "id": "f8a9c8a9",
   "metadata": {
    "scrolled": true
   },
   "outputs": [],
   "source": [
    "new_data = pd.concat([data.iloc[:, :-1],newLabel_le], axis=1)\n",
    "new_data.head()"
   ]
  },
  {
   "cell_type": "code",
   "execution_count": null,
   "id": "0a13f5b2",
   "metadata": {},
   "outputs": [],
   "source": [
    "#Reduce data\n",
    "data_minimal = new_data.sample(n = 100)\n",
    "data_minimal"
   ]
  },
  {
   "cell_type": "code",
   "execution_count": null,
   "id": "b48a1a4c",
   "metadata": {},
   "outputs": [],
   "source": [
    "x = data_minimal.iloc[:,:-1]\n",
    "y = data_minimal.iloc[:,-1:]"
   ]
  },
  {
   "cell_type": "code",
   "execution_count": null,
   "id": "b4c40e9d",
   "metadata": {},
   "outputs": [],
   "source": [
    "#Train-test split\n",
    "from sklearn.model_selection import train_test_split\n",
    "X_train, X_test, y_train, y_test = train_test_split(x, y, test_size=0.25, random_state=42)"
   ]
  },
  {
   "cell_type": "code",
   "execution_count": null,
   "id": "e19e0b69",
   "metadata": {},
   "outputs": [],
   "source": [
    "# XGBoost Classification Feature Importance\n",
    "from xgboost import XGBClassifier\n",
    "from matplotlib import pyplot\n",
    "\n",
    "model = XGBClassifier()\n",
    "model.fit(X_train, y_train)\n",
    "importance = model.feature_importances_\n",
    "\n",
    "for i,v in enumerate(importance):\n",
    "    print('Feature: %0d, Score: %.5f' % (i,v))"
   ]
  },
  {
   "cell_type": "code",
   "execution_count": null,
   "id": "1bcb21f5",
   "metadata": {},
   "outputs": [],
   "source": [
    "#Colleration matrix \n",
    "import seaborn as sns \n",
    "plt.figure(figsize = (12,10))\n",
    "cor = X_train.corr()\n",
    "sns.heatmap(cor, annot = True, cmap = plt.cm.CMRmap_r)\n",
    "plt.show()"
   ]
  },
  {
   "cell_type": "code",
   "execution_count": null,
   "id": "4c59ccea",
   "metadata": {},
   "outputs": [],
   "source": [
    "X_train.corr()"
   ]
  },
  {
   "cell_type": "code",
   "execution_count": null,
   "id": "c0b4b903",
   "metadata": {},
   "outputs": [],
   "source": [
    "def correlation(dataset,threshold):\n",
    "    col_corr = set()\n",
    "    corr_matrix = dataset.corr()\n",
    "    for i in range(len(corr_matrix.columns)):\n",
    "        for j in range(i):\n",
    "            if abs(corr_matrix.iloc[i,j]) > threshold:\n",
    "                colname = corr_matrix.columns[i]\n",
    "                col_corr.add(colname)\n",
    "    return col_corr"
   ]
  },
  {
   "cell_type": "code",
   "execution_count": null,
   "id": "f3778511",
   "metadata": {},
   "outputs": [],
   "source": [
    "corr_features = correlation(X_train, 0.7)\n",
    "len(set(corr_features))"
   ]
  },
  {
   "cell_type": "code",
   "execution_count": null,
   "id": "e6c5042a",
   "metadata": {},
   "outputs": [],
   "source": [
    "corr_features"
   ]
  },
  {
   "cell_type": "code",
   "execution_count": null,
   "id": "7c3327f4",
   "metadata": {},
   "outputs": [],
   "source": [
    "X_train_drop = X_train.drop(corr_features, axis = 1)\n",
    "X_test_drop = X_test.drop(corr_features, axis = 1)\n",
    "X_train_drop"
   ]
  },
  {
   "cell_type": "code",
   "execution_count": null,
   "id": "747a8988",
   "metadata": {},
   "outputs": [],
   "source": [
    "# XGBoost Classification Feature Importance\n",
    "from xgboost import XGBClassifier\n",
    "from matplotlib import pyplot\n",
    "\n",
    "model = XGBClassifier()\n",
    "model.fit(X_train_drop, y_train)\n",
    "importance = model.feature_importances_\n",
    "\n",
    "for i,v in enumerate(importance):\n",
    "    print('Feature: %0d, Score: %.5f' % (i,v))"
   ]
  },
  {
   "cell_type": "code",
   "execution_count": null,
   "id": "aa0e1a02",
   "metadata": {},
   "outputs": [],
   "source": [
    "#Colleration matrix \n",
    "import seaborn as sns \n",
    "plt.figure(figsize = (12,10))\n",
    "cor = X_train_drop.corr()\n",
    "sns.heatmap(cor, annot = True, cmap = plt.cm.CMRmap_r)\n",
    "plt.show()"
   ]
  },
  {
   "cell_type": "code",
   "execution_count": null,
   "id": "3401abfb",
   "metadata": {},
   "outputs": [],
   "source": [
    "def correlation(dataset,threshold):\n",
    "    col_corr = set()\n",
    "    corr_matrix = dataset.corr()\n",
    "    for i in range(len(corr_matrix.columns)):\n",
    "        for j in range(i):\n",
    "            if abs(corr_matrix.iloc[i,j]) > threshold:\n",
    "                colname = corr_matrix.columns[i]\n",
    "                col_corr.add(colname)\n",
    "    return col_corr"
   ]
  },
  {
   "cell_type": "code",
   "execution_count": null,
   "id": "db015c58",
   "metadata": {},
   "outputs": [],
   "source": [
    "corr_features = correlation(X_train_drop, 0.6)\n",
    "len(set(corr_features))"
   ]
  },
  {
   "cell_type": "code",
   "execution_count": null,
   "id": "0efc83b9",
   "metadata": {},
   "outputs": [],
   "source": [
    "corr_features"
   ]
  },
  {
   "cell_type": "code",
   "execution_count": null,
   "id": "1fa70e6a",
   "metadata": {},
   "outputs": [],
   "source": [
    "X_train_final = X_train_drop.drop(corr_features, axis = 1)\n",
    "X_test_final = X_test_drop.drop(corr_features, axis = 1)\n",
    "X_train_final"
   ]
  },
  {
   "cell_type": "code",
   "execution_count": null,
   "id": "f7d96f77",
   "metadata": {},
   "outputs": [],
   "source": []
  }
 ],
 "metadata": {
  "kernelspec": {
   "display_name": "Python 3",
   "language": "python",
   "name": "python3"
  },
  "language_info": {
   "codemirror_mode": {
    "name": "ipython",
    "version": 3
   },
   "file_extension": ".py",
   "mimetype": "text/x-python",
   "name": "python",
   "nbconvert_exporter": "python",
   "pygments_lexer": "ipython3",
   "version": "3.8.8"
  }
 },
 "nbformat": 4,
 "nbformat_minor": 5
}
